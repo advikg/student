{
 "cells": [
  {
   "cell_type": "markdown",
   "metadata": {},
   "source": [
    "---\n",
    "toc: true\n",
    "comments: true\n",
    "layout: post\n",
    "title: College Board MCQ Practice\n",
    "description: Discussion and reflection on recent College Board MCQ.\n",
    "type: hacks\n",
    "courses: { compsci: {week: 17} }\n",
    "---"
   ]
  },
  {
   "cell_type": "markdown",
   "metadata": {},
   "source": [
    "# Test Corrections\n",
    "\n",
    "Score: 62/67\n",
    "\n",
    "Question 6: Simple robot procedure code. I made a mistake because I didn't see that one of the code blocks was in a repeat statement. I think the most important takeaway was just to look closely at the code and make sure I'm not missing anything important.\n",
    "\n",
    "Question 32: I forgot about how since the lowest score is removed, the length of the list should be subtracted by 1.<br>\n",
    "![MCQ Q32]({{site.baseurl}}/images/q32.png)\n",
    "\n",
    "Question 40: All a certificate authority does is verify encryption keys used for TLS. A website with a certificate doesn't mean that the website itself is safe, just the connection. You can still get a virus.\n",
    "\n",
    "Question 49: Simple mistake involving binary, I messed up my powers of two. I should've spent more time checking my answer.\n",
    "\n",
    "Question 50: Another confusion with time complexity, I didn't think that 2n and n^2 counted as \"reasonable time\" for very large values of n. I need to research more on time complexity and what is considered \"reasonable time\" by College Board."
   ]
  }
 ],
 "metadata": {
  "kernelspec": {
   "display_name": "Python 3",
   "language": "python",
   "name": "python3"
  },
  "language_info": {
   "name": "python",
   "version": "3.10.12"
  }
 },
 "nbformat": 4,
 "nbformat_minor": 2
}
