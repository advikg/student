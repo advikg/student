{
 "cells": [
  {
   "cell_type": "markdown",
   "metadata": {},
   "source": [
    "---\n",
    "toc: true\n",
    "comments: true\n",
    "layout: post\n",
    "title: Big Idea 5.6 Safe Computing\n",
    "description: hacker\n",
    "type: hacks\n",
    "courses: { compsci: {week: 17} }\n",
    "---"
   ]
  },
  {
   "cell_type": "markdown",
   "metadata": {},
   "source": [
    "# Big Idea 5.6 Safe Computing\n",
    "![Banner](https://media.istockphoto.com/id/875326436/photo/cybersecurity-digital-globe-with-blueprint.jpg?s=1024x1024&w=is&k=20&c=6fcixWvWK7g-e91eI3JQJbGo82iCJnmUNC-Yl2z-dt0=)\n",
    "\n",
    "\n",
    "## Personal Identifiable Information (PII)\n",
    "- Information about you that is **specific** to you\n",
    "- Ex: Name, Date of Birth, SSN, Bank Account info, \n",
    "<img src=\"https://i.kym-cdn.com/entries/icons/original/000/042/184/handsomestaringeagle.jpg\" width=200>"
   ]
  }
 ],
 "metadata": {
  "language_info": {
   "name": "python"
  }
 },
 "nbformat": 4,
 "nbformat_minor": 2
}
