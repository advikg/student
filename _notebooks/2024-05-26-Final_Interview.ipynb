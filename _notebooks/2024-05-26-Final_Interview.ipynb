{
 "cells": [
  {
   "cell_type": "markdown",
   "metadata": {},
   "source": [
    "---\n",
    "toc: true\n",
    "comments: true\n",
    "layout: post\n",
    "title: Advik Garg - Tri 3 Final Interview\n",
    "type: tangibles\n",
    "---"
   ]
  },
  {
   "cell_type": "markdown",
   "metadata": {},
   "source": [
    "# Email\n",
    "\n",
    "Dear Mr. Lopez,\n",
    "\n",
    "I am applying for the Nighthawk Coders Content Creation Internship for this Summer. I would like to explain why I am qualified for this role. In the task, it requires the development of algorithms that help users to match their skills with others via the use of user-inputted skills. Some past projects of mine use these skills in a multitude of situations. For example, we created a website dubbed “[Corsica](https://napoleon-bonaparte-official.github.io/corsica-frontend/)” in a small 4 person group of friends, which was a video uploading/sharing site. This website was a full-stack application utilizing REST APIs to connect users easily, making user input very intuitive and allowing for easy storage of things like user data, passwords, videos, images, and more. We did all this using an HTML/JS/CSS frontend and a Flask backend, using an SQLite DB for storage. Knowledge of these frameworks and full stack development, as well as working with databases, is crucial to doing well in this position, and is something I am very confident with. Throughout AP CSP, I have worked alongside others, learning the value of good teamwork and collaboration through strategies such as Agile Methodology, to develop these projects in an efficient and timely manner. I also have experience with ML, in a different project called [Physiognomy](https://spooketti.github.io/Physiognomy/), in which we used CNN models and OpenCV to run facial recognition software embedded in a frontend application. It took in information about facial features and proportions, and used the model to detect things like gender, age, and more. Although the ML that would help in this task is different, the concepts behind creating a model and using things like linear regressions between multiple variables would help in forming successful teams that gel together well. I have also showcased these projects in events like Night At the Museum, where I presented these websites to groups of other students and parents. I not only demonstrated the website, but gained crucial experience in getting input, concerns, and questions from non-technical users about the website itself, allowing me as a developer to see through the lens of the average user experiencing the site for the first time. \n",
    "\n",
    "![Image 1](https://i.ibb.co/MMwHkb7/image.png)\n",
    "![Image 2](https://i.ibb.co/3RxHsCc/image.png)\n",
    "\n",
    "Outside of AP CSP, I have more experience in Computer Science through CyberPatriot, a cybersecurity and incident response competition, and many capture-the-flags(CTFs). In these competitions, I have consistently done well and learned a lot about general computer science. For example, last season in Cyber Patriot XVI, we recieved 3rd place overall and 2nd place in the Cisco NetAcad Challenge out of 3,579 total high school teams. Our work as a 6-person team was a testament to our ability to collaborate and learn, and as a winner of our team's MVP award, my dedication and willingness to work hard played a big role in our team's overall success. I think that I would be a great match for your internship, as I am dedicated towards computer science and willing to work the 40 hours for the internship, and I have a lot of experience in the things needed to develop software like this. My skills in Full Stack, Abstraction, Databases, ML, and collaboration will prove to be very useful in this role, and my dedication and hard-working nature will ensure that nothing done in this internship will be half-hearted. Thank you for taking your time to read this email, and here is my [linkedin](https://www.linkedin.com/in/advikgarg/) if you prefer to look at that. I have also attached my resume below. \n",
    "\n",
    "Thanks,<br>\n",
    "Advik Garg\n",
    "\n",
    "\n",
    "[Resume](https://drive.google.com/file/d/1aM2EHQi1ezJzkQClZrCc6YDcv2d7trL4/view?usp=sharing)"
   ]
  }
 ],
 "metadata": {
  "kernelspec": {
   "display_name": "Python 3",
   "language": "python",
   "name": "python3"
  },
  "language_info": {
   "name": "python",
   "version": "3.10.12"
  }
 },
 "nbformat": 4,
 "nbformat_minor": 2
}
