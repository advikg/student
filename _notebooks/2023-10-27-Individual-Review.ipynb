{
 "cells": [
  {
   "cell_type": "markdown",
   "metadata": {},
   "source": [
    "---\n",
    "toc: true\n",
    "comments: false\n",
    "layout: post\n",
    "title: Individual Review - Advik G\n",
    "description: Recap of key events and learning\n",
    "type: tangibles\n",
    "courses: { compsci: {week: 10} }\n",
    "---"
   ]
  },
  {
   "cell_type": "markdown",
   "metadata": {},
   "source": [
    "# Issue Recap\n",
    "I used [GitHub Issues](https://github.com/APCSP-RAGS/awsRAGS_flask/issues) to organize work for me and my other main backend partner, Srijan:\n",
    "- [Starting Checklist](https://github.com/APCSP-RAGS/awsRAGS_flask/issues/2): This helped us stay on task and get organized while in the starting stages of development\n",
    "- [Commit Summaries](https://github.com/APCSP-RAGS/awsRAGS_flask/issues/3): This summary was updated for each relevant commit. This is incredibly useful for charting our progress and looking at each commit easily. THe supplied text also served as more detailed commit messages. In general, this issue was used the most for organizing work done each day.\n",
    "\n",
    "We didn't have many other issues as most of our task delegation was in communication through Slack and/or the checklist issue.\n",
    "\n",
    "Grading Issues:\n",
    "- [Self Grade Issue](https://github.com/APCSP-RAGS/pp-frontend/issues/6) - Issue used for personal grading\n",
    "- [Eshika's Group - Lung Cancer](https://github.com/EshikaP1/frontend/issues/1#issuecomment-1791879996) - Peer grade from dress rehearsal\n",
    "- [Lincoln's Group - Frogs](https://github.com/IshanCornick/FrontendRepo/issues/1#issuecomment-1792745899) - Peer grade from dress rehearsal\n",
    "- [Nitin's Group - Colleges](https://github.com/CollegeRankings/CollegeRankingsBackend/issues/44#issuecomment-1791883099) - from N@TM\n",
    "- [Will's Group - Geoguessr](https://github.com/rliao569/Frontend-CSP/issues/15#issuecomment-1791887511) - from N@TM\n",
    "- [Hayden's Group - Ciphers](https://github.com/monke7769/passion/issues/6#issuecomment-1791892408) - from N@TM"
   ]
  },
  {
   "cell_type": "markdown",
   "metadata": {},
   "source": [
    "# Backend Deployment\n",
    "I had a lot of struggles deploying our backend to AWS in the beginning, so I made a [blog post](https://advikg.github.io/student/2023/10/08/AWS-Struggles_IPYNB_2_.html) a while ago to explain what I faced, and hopefully help other people with the same issues.\n",
    "\n",
    "\n",
    "## DNS\n",
    "Registering a domain should've been a relatively easy process, but there were many struggles that people had, including me. First off, the AWS Route 53 layout looks complicated, to say the least. But when you find the correct spot by going to Hosted Zones > stu.nighthawkcodingsociety.com > Create Record, there's some problems in the directions. It tells you to create a CNAME record pointing to the domain stu.nighthawkcodingsociety.com, but what this does is redirect first to the site domain, then to the site IP. This chain redirection messes with some web interactions, so it's better to use the static IP address of the server: `3.130.255.192`\n",
    "- Also, make sure **not** to edit anything else, it's best not to change default settings unless you know exactly what you're doing.\n",
    "\n",
    "One more thing:\n",
    "A **lot** of people have been using a third-party website called `Duck DNS` for their domains. While this isn't necessarily a bad thing, using Route 53 isn't that complicated, will allow classmates and Mr. Mortenson/Mr. Lopez to help troubleshoot your site, and helps them manage your sites easily. I'd highly suggest using Route 53 over Duck DNS.\n",
    "\n",
    "## AWS/Docker Deployment\n",
    "There's a few things that people needed to keep in mind when finally deploying their backend:\n",
    "1. Make sure your port is **defined** in the docker files and **available** on the AWS instance(use `docker ps` to view ports currently in use)\n",
    "2. Make sure that running `docker-compose up` on your host in the correct directory runs the webserver with no issue, on the right port\n",
    "3. Once you are **finished** with the first few steps, you can clone the repo on the AWS instance and run the docker build\n",
    "4. Make sure to tailor the NGINX configurations specifically towards your site, and don't forget to test the configs using `nginx -t`\n",
    "5. After reloading the configs, make sure your domain is listed in the output for `certbot --nginx`\n",
    "A problem I had was that my domain was not listed in the certbot output. I used ChatGPT for help and found that you can use certbot for a specific domain by running `sudo certbot --nginx -d ----.stu.nighthawkcodingsociety.com`(insert the right domain name there).\n",
    "I found out that since my domain name had an underscore(_), certbot looked at it as invalid. I was able to quickly solve this by changing the domain in Route 53 and in the NGINX configurations, and reloading everything.\n",
    "\n",
    "## General Tips\n",
    "- Use sudo for all of your commands, this gets rid of any permission errors you might have\n",
    "- Read the errors you have, don't just bug someone else to figure it out for you. ChatGPT and google are great tools for troubleshooting errors, and this way you can also learn more\n",
    "- Make sure to reload nginx configurations or redo the docker build if you change any configurations\n",
    "- Try not to mess with the instance(Putting random stuff in .bashrc, using a forkbomb, making annoying cronjobs), it makes it a lot less fun for everybody\n",
    "\n",
    "Well, that's all I have. You can view our groups backend site [here](https://awsrags-flask.stu.nighthawkcodingsociety.com)"
   ]
  },
  {
   "cell_type": "markdown",
   "metadata": {},
   "source": [
    "# Backend Development\n",
    "Alright, now onto the actual development of the backend. First going into this, I was very confused. I slowly started to understand the structure of the server after experimenting with the Jokes API to make a `Create` method.\n",
    "\n",
    "## Testing with Jokes\n",
    "I first started with the `jokes.py` file in the `model` folder, where I defined a function that added a joke to the dictionary:"
   ]
  },
  {
   "cell_type": "code",
   "execution_count": 4,
   "metadata": {},
   "outputs": [],
   "source": [
    "# Function to add jokes(for create method)\n",
    "def createJoke(joke):\n",
    "    item_id = len(jokes_data)\n",
    "    jokes_data.append({\"id\": item_id, \"joke\": joke, \"haha\": 0, \"boohoo\": 0})"
   ]
  },
  {
   "cell_type": "markdown",
   "metadata": {},
   "source": [
    "Then, I added some code to use the JSON request body in the API endpoint:"
   ]
  },
  {
   "cell_type": "code",
   "execution_count": null,
   "metadata": {},
   "outputs": [],
   "source": [
    "class JokesAPI:\n",
    "    # Method to create joke, \n",
    "    class _Create(Resource):\n",
    "        def post(self): # Accept POST requests\n",
    "            data = request.get_json() # Get JSON data from the request body\n",
    "            print(data)\n",
    "            joke = data.get('joke')\n",
    "            if joke is not None: # Error handling\n",
    "                createJoke(joke) # Actually running the method\n",
    "                return jsonify(jokes_data[-1])\n",
    "            else:\n",
    "                return jsonify({'error': 'Invalid data'})\n",
    "    api.add_resource(_Create, '/create') # Add the method to the /create endpoint"
   ]
  },
  {
   "cell_type": "markdown",
   "metadata": {},
   "source": [
    "I was able to test this using Postman:\n",
    "![Postman POST Test]({{site.baseurl}}/images/postman_jokescreate.png)"
   ]
  },
  {
   "cell_type": "markdown",
   "metadata": {},
   "source": [
    "## Character Songs API\n",
    "\n",
    "For our project, we had two main themes we wanted to incorporate: Breaking Bad, and Music\n",
    "Now they seem like completely unrelated things, but I was able to tie them together by making this API, which:\n",
    "- Uses SQLAlchemy to persisitently store data\n",
    "- Has a list of songs with artist and genre, for characters from Breaking Bad\n",
    "- Has both Create and Read methods in order to increase functionality\n",
    "- Gets lyrics using the `lyricgenius` API for each song in the table\n",
    "\n",
    "In our model, we defined a class with all of our data points:"
   ]
  },
  {
   "cell_type": "code",
   "execution_count": null,
   "metadata": {},
   "outputs": [],
   "source": [
    "class Song(db.Model): # Create class\n",
    "    __tablename__ = \"Song\"\n",
    "    id = db.Column(db.Integer, primary_key=True)  # Define a primary key column\n",
    "    character = db.Column(db.String, nullable=False) # Breaking bad character\n",
    "    song_name = db.Column(db.String, nullable=False)\n",
    "    artist = db.Column(db.String, nullable=False)\n",
    "    genre = db.Column(db.String, nullable=False)\n",
    "    lyrics = db.Column(db.String, nullable=False)\n",
    "    def __init__(self, character, song_name, artist, genre, lyrics): # Constructer \n",
    "        self.character = character\n",
    "        self.song_name = song_name\n",
    "        self.artist = artist\n",
    "        self.genre = genre\n",
    "        self.lyrics = lyrics\n",
    "    # Convert db data to a dictionary in order to return easily using JSON, used for read method\n",
    "    def to_dict(self):\n",
    "        return {\"character\": self.character, \"song_name\": self.song_name, \"artist\": self.artist, \"genre\": self.genre, \"lyrics\": self.lyrics}\n",
    "    # Create method to let users add a song to the DB\n",
    "    def create(self):\n",
    "        try:\n",
    "            db.session.add(self)  # add prepares to persist object to table\n",
    "            db.session.commit()  # SQLAlchemy requires a manual commit\n",
    "            return self\n",
    "        except: \n",
    "            db.session.remove() # remove object from table if invalid\n",
    "            return None\n",
    "        # Read method to return every part of the table\n",
    "    def read(self):\n",
    "        return {\n",
    "            \"id\": self.id,\n",
    "            \"character\": self.character,\n",
    "            \"song_name\": self.song_name,\n",
    "            \"artist\": self.artist,\n",
    "            \"genre\": self.genre,\n",
    "            \"lyrics\": self.lyrics\n",
    "        }"
   ]
  },
  {
   "cell_type": "markdown",
   "metadata": {},
   "source": [
    "In this I created a table with different columns to sort each data type, then defined methods to both read from and add to the database. These methods are very useful when trying to integrate CRUD in the frontend. But now that the table is created, it needs data. This is where the `initSongs()` function comes into the spotlight. This function is called at the start of running the server, and initializes the database with data. For some projects, this data can be webscraped or gotten through a 3rd party API, but for this we just inputted manual data since there wasnt any clear way to automate it. We also depended on user input from the create method in order to populate the data more, and this worked pretty well since the data is stored persistently in the SQLite DB."
   ]
  },
  {
   "cell_type": "code",
   "execution_count": null,
   "metadata": {},
   "outputs": [],
   "source": [
    "class SongAPI:\n",
    "    class _Create(Resource):\n",
    "        def post(self):\n",
    "            # get JSON request body\n",
    "            body = request.get_json()\n",
    "            # parse JSON to get variables\n",
    "            character = body.get('character')\n",
    "            song_name = body.get('song_name')\n",
    "            artist = body.get('artist')\n",
    "            genre = body.get('genre')\n",
    "            lyrics = body.get('lyrics')\n",
    "            # Set up Song class object\n",
    "            song_obj = Song(character=character, song_name=song_name, artist=artist, genre=genre, lyrics=lyrics)\n",
    "            \n",
    "            ''' #2: Key Code block to add song to database '''\n",
    "            # use method defined in model to create song in database\n",
    "            song = song_obj.create()\n",
    "            # success returns json of song\n",
    "            if song:\n",
    "                return jsonify(song.read()) # Use read method to show everything\n",
    "            # failure returns error\n",
    "            return {'message': f'Invalid input, correct fields should be character, song_name, lyrics, artist, and genre'}, 400\n",
    "\n",
    "            \n",
    "    class _Read(Resource):\n",
    "        def get(self):\n",
    "        # Retrieve all songs from the database\n",
    "            songs = Song.query.all()\n",
    "            json_ready = [song.to_dict() for song in songs]\n",
    "        # Return the JSON response\n",
    "            return jsonify(json_ready)\n",
    "    # building RESTapi resources/interfaces, these routes are added to Web Server\n",
    "    api.add_resource(_Create, '/create')\n",
    "    api.add_resource(_Read, '/')\n"
   ]
  },
  {
   "cell_type": "markdown",
   "metadata": {},
   "source": [
    "In the API, it was pretty simple to define a read and create method to let the frontend access and write to the DB. We used `jsonify` for ease of use and simple integration. The create method parses the JSON request body and uses the method defined in the model to add the song to the DB and generate lyrics. This API structure allowed us to format requests easily, as shown here:\n",
    "![Song Create]({{site.baseurl}}/images/songcreate_postman.png)"
   ]
  },
  {
   "cell_type": "markdown",
   "metadata": {},
   "source": [
    "# Team Teach\n",
    "In our group's team teach(CB 3.7-3.8: Iteration), we split up work at first in order to get a good start on the lesson. I was in charge of creating a rudimentary structure for the lesson that we could follow and develop upon. For this, I used what was avalaible to us in the Team Teach criteria on the teacher website: \n",
    "![CB Teach Criteria]({{site.baseurl}}/images/cbteach_criteria.png)\n",
    "I also used some of the AP Classroom material available in chapters 3.7 and 3.8, and added my own personal knowledge/experience with iteration in python, like while loops and nested for loops. Because of my own experience with python, I was also able to understand the AP pseudo code syntax better when looking over the lesson. Added to this, I helped develop some of the python code, and created Popcorn Hack 3:\n",
    "- Create a for loop that uses a try and except statement for an ValueError\n",
    "- Use integers and a list to create scenarios where the loop will either print something expected or print an error message\n",
    "- *CHALLENGE:* Try using the `math` module for this error\n",
    "This challenge was relatively simple, but the extra challenge was a cool way to introduce people to the ideas of libraries and the different ways errors in python can occur. The following code would give you full points:"
   ]
  },
  {
   "cell_type": "code",
   "execution_count": null,
   "metadata": {},
   "outputs": [
    {
     "name": "stdout",
     "output_type": "stream",
     "text": [
      "1.0\n",
      "2.0\n",
      "Cannot take square root of a negative number.\n",
      "0.0\n",
      "3.0\n"
     ]
    }
   ],
   "source": [
    "from math import sqrt\n",
    " \n",
    "numbers = [1, 4, -4, 0, 9]\n",
    "\n",
    "\n",
    "for number in numbers:\n",
    "    try:\n",
    "        print(sqrt(number))\n",
    "    except ValueError:\n",
    "        print(\"Cannot take square root of a negative number.\")"
   ]
  },
  {
   "cell_type": "markdown",
   "metadata": {},
   "source": [
    "# College Board MCQ\n",
    "This MCQ was tough and long, 66 questions. I spent a while on it and ended up with a 65/66 points, which was much higher than what I expected:\n",
    "![MCQ Score]({{site.baseurl}}/images/mcq_score.png)\n",
    "Throughout the test, I realized many things:\n",
    "- AP pseudo code is relatively intuitive, and very easy to understand after the team teaches\n",
    "- I need to work on time complexity/Big O notation\n",
    "- I need to also study more general computer science knowledge for the AP test, like computer networking and cyber security\n",
    "Overall, the test was easier mainly due to the team teaches and coding experience gained in the past trimester.\n",
    "The question I got wrong was about time complexity:\n",
    "![MCQ Wrong Question]({{site.baseurl}}/images/cbmcq_question.png)\n",
    "I now realize I need to do more practice with big O notation and understanding it in context. In this example, I thought that n^2 was an unreasonable time, but after some research I realized there are many n^2 algorithms that still run in reasonable time. I created a program in Python that has n^2 time in order to better understand this:"
   ]
  },
  {
   "cell_type": "code",
   "execution_count": null,
   "metadata": {},
   "outputs": [
    {
     "name": "stdout",
     "output_type": "stream",
     "text": [
      "Sorted array: [3, 4, 5, 5, 6, 7, 11, 12, 22, 35, 46, 68, 76, 90, 97, 345, 876]\n"
     ]
    }
   ],
   "source": [
    "# Uses selection sort to sort an array in ascending order, this runs in O(n^2) time complexity\n",
    "def selection_sort(arr):\n",
    "    n = len(arr)\n",
    "    \n",
    "    for i in range(n):\n",
    "        # Find the minimum element in the remaining unsorted part of the array\n",
    "        min_idx = i\n",
    "        for j in range(i+1, n):\n",
    "            if arr[j] < arr[min_idx]:\n",
    "                min_idx = j\n",
    "        \n",
    "        # Swap the found minimum element with the first element\n",
    "        arr[i], arr[min_idx] = arr[min_idx], arr[i]\n",
    "\n",
    "# Example usage:\n",
    "my_list = [4, 68, 7, 12, 22, 11, 35, 46, 76, 876, 97, 90, 5, 3, 345, 5, 6]\n",
    "selection_sort(my_list)\n",
    "print(\"Sorted array:\", my_list)"
   ]
  },
  {
   "cell_type": "markdown",
   "metadata": {},
   "source": [
    "# Trimester 1 Reflection\n",
    "Over the past trimester, I've experienced significant growth in my coding journey. I started with no prior knowledge of web development, and I've come a long way since then. One of the major milestones I achieved was creating a backend using Python and Flask, which enabled me to handle the server-side logic of my web applications. This was a substantial leap from my starting point, where I had no experience in this field.\n",
    "\n",
    "In addition to creating the backend, I successfully integrated it with a frontend hosted on Github Pages. This integration allowed me to build a fully functional web application where users could interact with the user interface, and the backend could process and serve data. This practical experience taught me a great deal about how a website functions as a cohesive unit, with the frontend and backend components working in harmony.\n",
    "\n",
    "To ensure the proper functioning of my backend, I extensively tested it using Postman. This testing phase was crucial in identifying and resolving any issues, ensuring that the backend could handle requests and provide accurate responses. This practical testing provided valuable insights into the robustness and reliability of my web application.\n",
    "\n",
    "Furthermore, I delved into the HTML/CSS/JS suite, gaining a deep understanding of these essential technologies. These front-end technologies allowed me to create the visual components of my web application, enhancing the user experience and making my project more dynamic and interactive.\n",
    "\n",
    "## Weeks\n",
    "Week 0:\n",
    "- Initial set up, picking partners, working on blog\n",
    "Week 1:\n",
    "- Figuring out Jupyter Notebooks, basic python, css\n",
    "Week 2:\n",
    "- Developing games in JS(Snake, Calculator, etc.)\n",
    "Week 3:\n",
    "- Fully finished CSS for blog site\n",
    "- Applying python and JS knowledge into creative activities(Websockets, JS Minesweeper, etc.)\n",
    "Week 4 & 5:\n",
    "- Group up with other pair\n",
    "- Work on Group Blog site\n",
    "- Agile methodology\n",
    "- Introduction to passion project\n",
    "Week 6:\n",
    "- Web Basics test:\n",
    "    - JS DOM & debugging\n",
    "    - Wireframing\n",
    "Week 7:\n",
    "- Start Passion Project\n",
    "- Ideation\n",
    "    - UML backend\n",
    "    - Frontend Design\n",
    "- AWS Deployment\n",
    "- [CB 3.1-3.2 Data Abstraction](https://advikg.github.io/student//2023/10/04/Data-Abstraction_IPYNB_2_.html)\n",
    "- [CB 3.3-3.4 Algorithms](https://advikg.github.io/student//2023/10/04/Student_Teaching_IPYNB_2_.html)\n",
    "Week 8:\n",
    "- [CB 3.5-3.6 Boolean If](https://advikg.github.io/student/2023/10/10/Boolean-If_IPYNB_2_.html)\n",
    "- [CB 3.7-3.8 Iteration - (Our own lesson)](https://advikg.github.io/student/2023/10/12/Iteration-In-Python_IPYNB_2_.html)\n",
    "- Messing around with the [Jokes API](https://github.com/APCSP-RAGS/awsRAGS_flask/commit/671d30e53850d269c7b79b3157862dc80dc9428f)\n",
    "- Using Postman to test the APIs\n",
    "Week 9:\n",
    "- [CB 3.9, 3.15 Developing Algorithms](https://advikg.github.io/student/2023/10/17/developingAlgorithmsTeach_IPYNB_2_.html)\n",
    "- [CB 3.10-3.11 Lists and Search](https://advikg.github.io/student/2023/10/19/StudentTeachingLesson_IPYNB_2_.html)\n",
    "- Developing Character Songs API\n",
    "- Fixing database errors\n",
    "Week 10:\n",
    "- [CB 3.12, 3.13 Developing Procedures](https://advikg.github.io/student/2023/10/24/developingProceduresP5_IPYNB_2_.html)\n",
    "- [CB 3.14 Libraries](https://advikg.github.io/student/2023/10/26/teamteach_IPYNB_2_.html)\n",
    "- []\n",
    "Week 11:\n",
    "- Finishing Backend and Character Songs API\n",
    "- N@TM Prep and Dress Rehearsal\n",
    "\n",
    "## Future Plans\n",
    "\n",
    "My goal in Computer Science is to be able to be independent and help others as much as possible. Outside of class, I try to help my friends debug errors in their code, and I explain things that confuse them. Not only does this help them succeed, it makes me feel good to be helpful and it also helps myself understand the material to a deeper level. In order to do this, I need to also branch out and learn more things. I want to be able to do frontend as well as I do backend, and one thing I regret is not being involved enough with that side of the passion project.\n",
    "\n",
    "First:\n",
    "I made a very simple JS program to check if a number is positive, negative, or 0 itself:"
   ]
  },
  {
   "cell_type": "code",
   "execution_count": null,
   "metadata": {},
   "outputs": [],
   "source": [
    "%%js\n",
    "// program that checks if the number is positive, negative or zero\n",
    "const number = -1;\n",
    "\n",
    "// check if number is greater than 0\n",
    "if (number > 0) {\n",
    "    console.log(\"The number is positive\");\n",
    "}\n",
    "\n",
    "// check if number is 0\n",
    "else if (number == 0) {\n",
    "  console.log(\"The number is zero\");\n",
    "}\n",
    "\n",
    "// if number is less than 0\n",
    "else {\n",
    "     console.log(\"The number is negative\");\n",
    "}"
   ]
  },
  {
   "cell_type": "markdown",
   "metadata": {},
   "source": [
    "I also want to figure out how to use this skills in different contexts, like using React or Node.js frameworks to take my development to the next level, or using Spring with Java, not JS. Programming is so versatile, and I want to be able to utilize it no matter the context.\n",
    "\n",
    "I have some resources that I plan to use:\n",
    "- [React](https://www.w3schools.com/REACT/DEFAULT.ASP)\n",
    "- [Spring](https://www.geeksforgeeks.org/spring/)\n",
    "- [OOP](https://docs.oracle.com/javase/tutorial/java/concepts/)"
   ]
  }
 ],
 "metadata": {
  "kernelspec": {
   "display_name": "Python 3",
   "language": "python",
   "name": "python3"
  },
  "language_info": {
   "codemirror_mode": {
    "name": "ipython",
    "version": 3
   },
   "file_extension": ".py",
   "mimetype": "text/x-python",
   "name": "python",
   "nbconvert_exporter": "python",
   "pygments_lexer": "ipython3",
   "version": "3.10.12"
  }
 },
 "nbformat": 4,
 "nbformat_minor": 2
}
