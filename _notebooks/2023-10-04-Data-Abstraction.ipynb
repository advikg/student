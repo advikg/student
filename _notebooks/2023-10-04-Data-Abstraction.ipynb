{
 "cells": [
  {
   "cell_type": "markdown",
   "metadata": {},
   "source": [
    "---\n",
    "comments: false\n",
    "layout: post\n",
    "title: CB 3.1, 3.2 Data Abstraction\n",
    "description: Data Abstraction\n",
    "courses: { compsci: {week: 7} }\n",
    "type: hacks\n",
    "---"
   ]
  },
  {
   "cell_type": "code",
   "execution_count": 7,
   "metadata": {},
   "outputs": [
    {
     "name": "stdout",
     "output_type": "stream",
     "text": [
      "advik\n",
      "oddvik\n"
     ]
    }
   ],
   "source": [
    "# Popcorn Hack 1\n",
    "\n",
    "firstname = 'advik'\n",
    "\n",
    "nick = 'oddvik'\n",
    "print(firstname)\n",
    "print(nick)"
   ]
  },
  {
   "cell_type": "code",
   "execution_count": 5,
   "metadata": {},
   "outputs": [
    {
     "name": "stdout",
     "output_type": "stream",
     "text": [
      "15\n",
      "False\n",
      "True\n",
      "3\n"
     ]
    }
   ],
   "source": [
    "# Popcorn Hack 2\n",
    "tanay_age = 3\n",
    "\n",
    "print(tanay_age + 12)\n",
    "print(bool(tanay_age - 3))\n",
    "print(bool(tanay_age + 2))\n",
    "print(str(tanay_age))"
   ]
  },
  {
   "cell_type": "code",
   "execution_count": 6,
   "metadata": {},
   "outputs": [
    {
     "name": "stdout",
     "output_type": "stream",
     "text": [
      "srijan is True\n",
      "srijan is False\n",
      "False\n"
     ]
    }
   ],
   "source": [
    "# Popcorn Hack 3\n",
    "srijan = True\n",
    "print(\"srijan is \" + str(srijan))\n",
    "srijan = False\n",
    "print(\"srijan is \" + str(srijan))\n",
    "print(srijan)"
   ]
  },
  {
   "cell_type": "code",
   "execution_count": 2,
   "metadata": {},
   "outputs": [
    {
     "name": "stdout",
     "output_type": "stream",
     "text": [
      "johnmortenson is cool\n"
     ]
    }
   ],
   "source": [
    "# Popcorn Hack 4\n",
    "coolPeople = ['srijan', 'srijan', 'srijan', 'johnmortenson', 'shanelopez', 'srijan']\n",
    "\n",
    "print(coolPeople[3] + \" is cool\")"
   ]
  },
  {
   "cell_type": "code",
   "execution_count": 1,
   "metadata": {},
   "outputs": [
    {
     "name": "stdout",
     "output_type": "stream",
     "text": [
      "Arnav is cool\n",
      "Arnav is fun\n",
      "Arnav's age is 15\n",
      "Arnav's fullname is Arnav Nadar\n",
      "Arnav's ssn is 911\n",
      "[\"jmort\", \"slopez\"]\n"
     ]
    }
   ],
   "source": [
    "# Homework\n",
    "import json\n",
    "\n",
    "arnav = {\n",
    "    \"cool\": True,\n",
    "    \"fun\": True,\n",
    "    \"age\": 15,\n",
    "    \"fullname\": \"Arnav Nadar\",\n",
    "    \"ssn\": \"911\"\n",
    "}\n",
    "otherpeople = [\"jmort\", \"slopez\"]\n",
    "\n",
    "\n",
    "for val in arnav:\n",
    "    if type(arnav[val]) == bool:\n",
    "        print(f'Arnav is {val}')\n",
    "    else:\n",
    "        print(f\"Arnav's {val} is {arnav[val]}\")\n",
    "\n",
    "people_json = json.dumps(otherpeople)\n",
    "print(people_json)"
   ]
  }
 ],
 "metadata": {
  "kernelspec": {
   "display_name": "Python 3",
   "language": "python",
   "name": "python3"
  },
  "language_info": {
   "codemirror_mode": {
    "name": "ipython",
    "version": 3
   },
   "file_extension": ".py",
   "mimetype": "text/x-python",
   "name": "python",
   "nbconvert_exporter": "python",
   "pygments_lexer": "ipython3",
   "version": "3.10.12"
  },
  "orig_nbformat": 4
 },
 "nbformat": 4,
 "nbformat_minor": 2
}
